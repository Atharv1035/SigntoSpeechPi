{
 "cells": [
  {
   "cell_type": "code",
   "execution_count": null,
   "id": "b370b5da",
   "metadata": {},
   "outputs": [
    {
     "ename": "FileNotFoundError",
     "evalue": "[Errno 2] Unable to synchronously open file (unable to open file: name = '..notebooks/models/Model_226_labels0.9475.h5', errno = 2, error message = 'No such file or directory', flags = 0, o_flags = 0)",
     "output_type": "error",
     "traceback": [
      "\u001b[0;31m---------------------------------------------------------------------------\u001b[0m",
      "\u001b[0;31mFileNotFoundError\u001b[0m                         Traceback (most recent call last)",
      "Cell \u001b[0;32mIn[5], line 3\u001b[0m\n\u001b[1;32m      1\u001b[0m \u001b[38;5;28;01mfrom\u001b[39;00m\u001b[38;5;250m \u001b[39m\u001b[38;5;21;01mtensorflow\u001b[39;00m\u001b[38;5;21;01m.\u001b[39;00m\u001b[38;5;21;01mkeras\u001b[39;00m\u001b[38;5;21;01m.\u001b[39;00m\u001b[38;5;21;01mmodels\u001b[39;00m\u001b[38;5;250m \u001b[39m\u001b[38;5;28;01mimport\u001b[39;00m load_model\n\u001b[1;32m      2\u001b[0m model_name \u001b[38;5;241m=\u001b[39m \u001b[38;5;124m'\u001b[39m\u001b[38;5;124m226_labels0.9475\u001b[39m\u001b[38;5;124m'\u001b[39m\n\u001b[0;32m----> 3\u001b[0m loaded_model \u001b[38;5;241m=\u001b[39m \u001b[43mload_model\u001b[49m\u001b[43m(\u001b[49m\u001b[38;5;124;43mf\u001b[39;49m\u001b[38;5;124;43m\"\u001b[39;49m\u001b[38;5;124;43m..notebooks/models/Model_\u001b[39;49m\u001b[38;5;132;43;01m{\u001b[39;49;00m\u001b[43mmodel_name\u001b[49m\u001b[38;5;132;43;01m}\u001b[39;49;00m\u001b[38;5;124;43m.h5\u001b[39;49m\u001b[38;5;124;43m\"\u001b[39;49m\u001b[43m)\u001b[49m\n",
      "File \u001b[0;32m~/ESS-SLR/myenv/lib/python3.10/site-packages/keras/src/saving/saving_api.py:196\u001b[0m, in \u001b[0;36mload_model\u001b[0;34m(filepath, custom_objects, compile, safe_mode)\u001b[0m\n\u001b[1;32m    189\u001b[0m     \u001b[38;5;28;01mreturn\u001b[39;00m saving_lib\u001b[38;5;241m.\u001b[39mload_model(\n\u001b[1;32m    190\u001b[0m         filepath,\n\u001b[1;32m    191\u001b[0m         custom_objects\u001b[38;5;241m=\u001b[39mcustom_objects,\n\u001b[1;32m    192\u001b[0m         \u001b[38;5;28mcompile\u001b[39m\u001b[38;5;241m=\u001b[39m\u001b[38;5;28mcompile\u001b[39m,\n\u001b[1;32m    193\u001b[0m         safe_mode\u001b[38;5;241m=\u001b[39msafe_mode,\n\u001b[1;32m    194\u001b[0m     )\n\u001b[1;32m    195\u001b[0m \u001b[38;5;28;01mif\u001b[39;00m \u001b[38;5;28mstr\u001b[39m(filepath)\u001b[38;5;241m.\u001b[39mendswith((\u001b[38;5;124m\"\u001b[39m\u001b[38;5;124m.h5\u001b[39m\u001b[38;5;124m\"\u001b[39m, \u001b[38;5;124m\"\u001b[39m\u001b[38;5;124m.hdf5\u001b[39m\u001b[38;5;124m\"\u001b[39m)):\n\u001b[0;32m--> 196\u001b[0m     \u001b[38;5;28;01mreturn\u001b[39;00m \u001b[43mlegacy_h5_format\u001b[49m\u001b[38;5;241;43m.\u001b[39;49m\u001b[43mload_model_from_hdf5\u001b[49m\u001b[43m(\u001b[49m\n\u001b[1;32m    197\u001b[0m \u001b[43m        \u001b[49m\u001b[43mfilepath\u001b[49m\u001b[43m,\u001b[49m\u001b[43m \u001b[49m\u001b[43mcustom_objects\u001b[49m\u001b[38;5;241;43m=\u001b[39;49m\u001b[43mcustom_objects\u001b[49m\u001b[43m,\u001b[49m\u001b[43m \u001b[49m\u001b[38;5;28;43mcompile\u001b[39;49m\u001b[38;5;241;43m=\u001b[39;49m\u001b[38;5;28;43mcompile\u001b[39;49m\n\u001b[1;32m    198\u001b[0m \u001b[43m    \u001b[49m\u001b[43m)\u001b[49m\n\u001b[1;32m    199\u001b[0m \u001b[38;5;28;01melif\u001b[39;00m \u001b[38;5;28mstr\u001b[39m(filepath)\u001b[38;5;241m.\u001b[39mendswith(\u001b[38;5;124m\"\u001b[39m\u001b[38;5;124m.keras\u001b[39m\u001b[38;5;124m\"\u001b[39m):\n\u001b[1;32m    200\u001b[0m     \u001b[38;5;28;01mraise\u001b[39;00m \u001b[38;5;167;01mValueError\u001b[39;00m(\n\u001b[1;32m    201\u001b[0m         \u001b[38;5;124mf\u001b[39m\u001b[38;5;124m\"\u001b[39m\u001b[38;5;124mFile not found: filepath=\u001b[39m\u001b[38;5;132;01m{\u001b[39;00mfilepath\u001b[38;5;132;01m}\u001b[39;00m\u001b[38;5;124m. \u001b[39m\u001b[38;5;124m\"\u001b[39m\n\u001b[1;32m    202\u001b[0m         \u001b[38;5;124m\"\u001b[39m\u001b[38;5;124mPlease ensure the file is an accessible `.keras` \u001b[39m\u001b[38;5;124m\"\u001b[39m\n\u001b[1;32m    203\u001b[0m         \u001b[38;5;124m\"\u001b[39m\u001b[38;5;124mzip file.\u001b[39m\u001b[38;5;124m\"\u001b[39m\n\u001b[1;32m    204\u001b[0m     )\n",
      "File \u001b[0;32m~/ESS-SLR/myenv/lib/python3.10/site-packages/keras/src/legacy/saving/legacy_h5_format.py:116\u001b[0m, in \u001b[0;36mload_model_from_hdf5\u001b[0;34m(filepath, custom_objects, compile)\u001b[0m\n\u001b[1;32m    114\u001b[0m opened_new_file \u001b[38;5;241m=\u001b[39m \u001b[38;5;129;01mnot\u001b[39;00m \u001b[38;5;28misinstance\u001b[39m(filepath, h5py\u001b[38;5;241m.\u001b[39mFile)\n\u001b[1;32m    115\u001b[0m \u001b[38;5;28;01mif\u001b[39;00m opened_new_file:\n\u001b[0;32m--> 116\u001b[0m     f \u001b[38;5;241m=\u001b[39m \u001b[43mh5py\u001b[49m\u001b[38;5;241;43m.\u001b[39;49m\u001b[43mFile\u001b[49m\u001b[43m(\u001b[49m\u001b[43mfilepath\u001b[49m\u001b[43m,\u001b[49m\u001b[43m \u001b[49m\u001b[43mmode\u001b[49m\u001b[38;5;241;43m=\u001b[39;49m\u001b[38;5;124;43m\"\u001b[39;49m\u001b[38;5;124;43mr\u001b[39;49m\u001b[38;5;124;43m\"\u001b[39;49m\u001b[43m)\u001b[49m\n\u001b[1;32m    117\u001b[0m \u001b[38;5;28;01melse\u001b[39;00m:\n\u001b[1;32m    118\u001b[0m     f \u001b[38;5;241m=\u001b[39m filepath\n",
      "File \u001b[0;32m~/ESS-SLR/myenv/lib/python3.10/site-packages/h5py/_hl/files.py:564\u001b[0m, in \u001b[0;36mFile.__init__\u001b[0;34m(self, name, mode, driver, libver, userblock_size, swmr, rdcc_nslots, rdcc_nbytes, rdcc_w0, track_order, fs_strategy, fs_persist, fs_threshold, fs_page_size, page_buf_size, min_meta_keep, min_raw_keep, locking, alignment_threshold, alignment_interval, meta_block_size, **kwds)\u001b[0m\n\u001b[1;32m    555\u001b[0m     fapl \u001b[38;5;241m=\u001b[39m make_fapl(driver, libver, rdcc_nslots, rdcc_nbytes, rdcc_w0,\n\u001b[1;32m    556\u001b[0m                      locking, page_buf_size, min_meta_keep, min_raw_keep,\n\u001b[1;32m    557\u001b[0m                      alignment_threshold\u001b[38;5;241m=\u001b[39malignment_threshold,\n\u001b[1;32m    558\u001b[0m                      alignment_interval\u001b[38;5;241m=\u001b[39malignment_interval,\n\u001b[1;32m    559\u001b[0m                      meta_block_size\u001b[38;5;241m=\u001b[39mmeta_block_size,\n\u001b[1;32m    560\u001b[0m                      \u001b[38;5;241m*\u001b[39m\u001b[38;5;241m*\u001b[39mkwds)\n\u001b[1;32m    561\u001b[0m     fcpl \u001b[38;5;241m=\u001b[39m make_fcpl(track_order\u001b[38;5;241m=\u001b[39mtrack_order, fs_strategy\u001b[38;5;241m=\u001b[39mfs_strategy,\n\u001b[1;32m    562\u001b[0m                      fs_persist\u001b[38;5;241m=\u001b[39mfs_persist, fs_threshold\u001b[38;5;241m=\u001b[39mfs_threshold,\n\u001b[1;32m    563\u001b[0m                      fs_page_size\u001b[38;5;241m=\u001b[39mfs_page_size)\n\u001b[0;32m--> 564\u001b[0m     fid \u001b[38;5;241m=\u001b[39m \u001b[43mmake_fid\u001b[49m\u001b[43m(\u001b[49m\u001b[43mname\u001b[49m\u001b[43m,\u001b[49m\u001b[43m \u001b[49m\u001b[43mmode\u001b[49m\u001b[43m,\u001b[49m\u001b[43m \u001b[49m\u001b[43muserblock_size\u001b[49m\u001b[43m,\u001b[49m\u001b[43m \u001b[49m\u001b[43mfapl\u001b[49m\u001b[43m,\u001b[49m\u001b[43m \u001b[49m\u001b[43mfcpl\u001b[49m\u001b[43m,\u001b[49m\u001b[43m \u001b[49m\u001b[43mswmr\u001b[49m\u001b[38;5;241;43m=\u001b[39;49m\u001b[43mswmr\u001b[49m\u001b[43m)\u001b[49m\n\u001b[1;32m    566\u001b[0m \u001b[38;5;28;01mif\u001b[39;00m \u001b[38;5;28misinstance\u001b[39m(libver, \u001b[38;5;28mtuple\u001b[39m):\n\u001b[1;32m    567\u001b[0m     \u001b[38;5;28mself\u001b[39m\u001b[38;5;241m.\u001b[39m_libver \u001b[38;5;241m=\u001b[39m libver\n",
      "File \u001b[0;32m~/ESS-SLR/myenv/lib/python3.10/site-packages/h5py/_hl/files.py:238\u001b[0m, in \u001b[0;36mmake_fid\u001b[0;34m(name, mode, userblock_size, fapl, fcpl, swmr)\u001b[0m\n\u001b[1;32m    236\u001b[0m     \u001b[38;5;28;01mif\u001b[39;00m swmr \u001b[38;5;129;01mand\u001b[39;00m swmr_support:\n\u001b[1;32m    237\u001b[0m         flags \u001b[38;5;241m|\u001b[39m\u001b[38;5;241m=\u001b[39m h5f\u001b[38;5;241m.\u001b[39mACC_SWMR_READ\n\u001b[0;32m--> 238\u001b[0m     fid \u001b[38;5;241m=\u001b[39m \u001b[43mh5f\u001b[49m\u001b[38;5;241;43m.\u001b[39;49m\u001b[43mopen\u001b[49m\u001b[43m(\u001b[49m\u001b[43mname\u001b[49m\u001b[43m,\u001b[49m\u001b[43m \u001b[49m\u001b[43mflags\u001b[49m\u001b[43m,\u001b[49m\u001b[43m \u001b[49m\u001b[43mfapl\u001b[49m\u001b[38;5;241;43m=\u001b[39;49m\u001b[43mfapl\u001b[49m\u001b[43m)\u001b[49m\n\u001b[1;32m    239\u001b[0m \u001b[38;5;28;01melif\u001b[39;00m mode \u001b[38;5;241m==\u001b[39m \u001b[38;5;124m'\u001b[39m\u001b[38;5;124mr+\u001b[39m\u001b[38;5;124m'\u001b[39m:\n\u001b[1;32m    240\u001b[0m     fid \u001b[38;5;241m=\u001b[39m h5f\u001b[38;5;241m.\u001b[39mopen(name, h5f\u001b[38;5;241m.\u001b[39mACC_RDWR, fapl\u001b[38;5;241m=\u001b[39mfapl)\n",
      "File \u001b[0;32mh5py/_objects.pyx:54\u001b[0m, in \u001b[0;36mh5py._objects.with_phil.wrapper\u001b[0;34m()\u001b[0m\n",
      "File \u001b[0;32mh5py/_objects.pyx:55\u001b[0m, in \u001b[0;36mh5py._objects.with_phil.wrapper\u001b[0;34m()\u001b[0m\n",
      "File \u001b[0;32mh5py/h5f.pyx:102\u001b[0m, in \u001b[0;36mh5py.h5f.open\u001b[0;34m()\u001b[0m\n",
      "\u001b[0;31mFileNotFoundError\u001b[0m: [Errno 2] Unable to synchronously open file (unable to open file: name = '..notebooks/models/Model_226_labels0.9475.h5', errno = 2, error message = 'No such file or directory', flags = 0, o_flags = 0)"
     ]
    }
   ],
   "source": [
    "from tensorflow.keras.models import load_model\n",
    "model_name = '226_labels0.9475'\n",
    "loaded_model = load_model(f\"../notebooks/models/Model_{model_name}.h5\")"
   ]
  },
  {
   "cell_type": "code",
   "execution_count": 2,
   "id": "62413e60",
   "metadata": {},
   "outputs": [],
   "source": [
    "from keras.models import Model\n",
    "from keras.layers import (Input, Bidirectional, LSTM, BatchNormalization, Dropout, \n",
    "                          MultiHeadAttention, Flatten, Dense, LeakyReLU, Conv1D, MaxPooling1D, GlobalAveragePooling1D)\n",
    "from keras.regularizers import l2\n",
    "\n",
    "input_shape = loaded_model.input_shape[1:]  # Get shape from loaded model\n",
    "input_layer = Input(shape=input_shape)\n",
    "\n",
    "#Convolution Layer\n",
    "conv = Conv1D(filters=128, kernel_size=3, activation='relu', padding='same')(input_layer)\n",
    "conv = MaxPooling1D(pool_size=2)(conv)\n",
    "# CPU-friendly LSTM (unroll=True, explicit activations)\n",
    "lstm_out1 = Bidirectional(LSTM(256, return_sequences=True, activation='tanh',\n",
    "                               recurrent_activation='sigmoid', unroll=True))(conv)\n",
    "lstm_out1 = BatchNormalization()(lstm_out1)\n",
    "lstm_out1 = Dropout(0.2)(lstm_out1)\n",
    "\n",
    "lstm_out2 = Bidirectional(LSTM(256, return_sequences=True, activation='tanh',\n",
    "                               recurrent_activation='sigmoid', unroll=True))(lstm_out1)\n",
    "lstm_out2 = BatchNormalization()(lstm_out2)\n",
    "\n",
    "lstm_out3 = Bidirectional(LSTM(256, return_sequences=True, activation='tanh',\n",
    "                               recurrent_activation='sigmoid', unroll=True))(lstm_out2)\n",
    "lstm_out3 = BatchNormalization()(lstm_out3)\n",
    "\n",
    "attention_out = MultiHeadAttention(num_heads=4, key_dim=64)(lstm_out3, lstm_out3)\n",
    "\n",
    "pooled=GlobalAveragePooling1D()(attention_out)\n",
    "\n",
    "dense1 = Dense(128, kernel_regularizer=l2(1e-4))(pooled)\n",
    "dense1 = LeakyReLU()(dense1)\n",
    "dense1 = BatchNormalization()(dense1)\n",
    "dense1 = Dropout(0.2)(dense1)\n",
    "\n",
    "dense2 = Dense(64, kernel_regularizer=l2(1e-4))(dense1)\n",
    "dense2 = LeakyReLU()(dense2)\n",
    "dense2 = BatchNormalization()(dense2)\n",
    "dense2 = Dropout(0.2)(dense2)\n",
    "\n",
    "output_layer = Dense(loaded_model.output_shape[1], activation='softmax')(dense2)\n",
    "\n",
    "model_cpu = Model(inputs=input_layer, outputs=output_layer)\n",
    "model_cpu.set_weights(loaded_model.get_weights())"
   ]
  },
  {
   "cell_type": "code",
   "execution_count": 4,
   "id": "9493debe",
   "metadata": {},
   "outputs": [
    {
     "name": "stdout",
     "output_type": "stream",
     "text": [
      "INFO:tensorflow:Assets written to: /tmp/tmpxp3vwqs6/assets\n"
     ]
    },
    {
     "name": "stderr",
     "output_type": "stream",
     "text": [
      "INFO:tensorflow:Assets written to: /tmp/tmpxp3vwqs6/assets\n"
     ]
    },
    {
     "name": "stdout",
     "output_type": "stream",
     "text": [
      "Saved artifact at '/tmp/tmpxp3vwqs6'. The following endpoints are available:\n",
      "\n",
      "* Endpoint 'serve'\n",
      "  args_0 (POSITIONAL_ONLY): TensorSpec(shape=(None, 543, 3), dtype=tf.float32, name='keras_tensor_41')\n",
      "Output Type:\n",
      "  TensorSpec(shape=(None, 255), dtype=tf.float32, name=None)\n",
      "Captures:\n",
      "  127604964367824: TensorSpec(shape=(), dtype=tf.resource, name=None)\n",
      "  127604964365360: TensorSpec(shape=(), dtype=tf.resource, name=None)\n",
      "  127604964375392: TensorSpec(shape=(), dtype=tf.resource, name=None)\n",
      "  127604965052960: TensorSpec(shape=(), dtype=tf.resource, name=None)\n",
      "  127604965059120: TensorSpec(shape=(), dtype=tf.resource, name=None)\n",
      "  127604964736016: TensorSpec(shape=(), dtype=tf.resource, name=None)\n",
      "  127604964721232: TensorSpec(shape=(), dtype=tf.resource, name=None)\n",
      "  127604964736192: TensorSpec(shape=(), dtype=tf.resource, name=None)\n",
      "  127604964725808: TensorSpec(shape=(), dtype=tf.resource, name=None)\n",
      "  127604964722992: TensorSpec(shape=(), dtype=tf.resource, name=None)\n",
      "  127604964857232: TensorSpec(shape=(), dtype=tf.resource, name=None)\n",
      "  127604964440048: TensorSpec(shape=(), dtype=tf.resource, name=None)\n",
      "  127604964437584: TensorSpec(shape=(), dtype=tf.resource, name=None)\n",
      "  127604964658864: TensorSpec(shape=(), dtype=tf.resource, name=None)\n",
      "  127604964659392: TensorSpec(shape=(), dtype=tf.resource, name=None)\n",
      "  127604964656048: TensorSpec(shape=(), dtype=tf.resource, name=None)\n",
      "  127604964663792: TensorSpec(shape=(), dtype=tf.resource, name=None)\n",
      "  127604964660800: TensorSpec(shape=(), dtype=tf.resource, name=None)\n",
      "  127604964664672: TensorSpec(shape=(), dtype=tf.resource, name=None)\n",
      "  127604964665728: TensorSpec(shape=(), dtype=tf.resource, name=None)\n",
      "  127604964659216: TensorSpec(shape=(), dtype=tf.resource, name=None)\n",
      "  127604964663088: TensorSpec(shape=(), dtype=tf.resource, name=None)\n",
      "  127604889533456: TensorSpec(shape=(), dtype=tf.resource, name=None)\n",
      "  127604889531872: TensorSpec(shape=(), dtype=tf.resource, name=None)\n",
      "  127604889528000: TensorSpec(shape=(), dtype=tf.resource, name=None)\n",
      "  127604889529584: TensorSpec(shape=(), dtype=tf.resource, name=None)\n",
      "  127604889533632: TensorSpec(shape=(), dtype=tf.resource, name=None)\n",
      "  127604889530464: TensorSpec(shape=(), dtype=tf.resource, name=None)\n",
      "  127604889571168: TensorSpec(shape=(), dtype=tf.resource, name=None)\n",
      "  127604889569760: TensorSpec(shape=(), dtype=tf.resource, name=None)\n",
      "  127604889567296: TensorSpec(shape=(), dtype=tf.resource, name=None)\n",
      "  127604889570464: TensorSpec(shape=(), dtype=tf.resource, name=None)\n",
      "  127604889577504: TensorSpec(shape=(), dtype=tf.resource, name=None)\n",
      "  127604889574336: TensorSpec(shape=(), dtype=tf.resource, name=None)\n",
      "  127604889576800: TensorSpec(shape=(), dtype=tf.resource, name=None)\n",
      "  127604889578032: TensorSpec(shape=(), dtype=tf.resource, name=None)\n",
      "  127604889579616: TensorSpec(shape=(), dtype=tf.resource, name=None)\n",
      "  127604889580496: TensorSpec(shape=(), dtype=tf.resource, name=None)\n",
      "  127604889583312: TensorSpec(shape=(), dtype=tf.resource, name=None)\n",
      "  127604889682512: TensorSpec(shape=(), dtype=tf.resource, name=None)\n",
      "  127604889690080: TensorSpec(shape=(), dtype=tf.resource, name=None)\n",
      "  127604889686912: TensorSpec(shape=(), dtype=tf.resource, name=None)\n",
      "  127604889691488: TensorSpec(shape=(), dtype=tf.resource, name=None)\n",
      "  127604889689376: TensorSpec(shape=(), dtype=tf.resource, name=None)\n",
      "  127604889690608: TensorSpec(shape=(), dtype=tf.resource, name=None)\n",
      "  127604889692016: TensorSpec(shape=(), dtype=tf.resource, name=None)\n",
      "  127604889696944: TensorSpec(shape=(), dtype=tf.resource, name=None)\n",
      "  127604889697648: TensorSpec(shape=(), dtype=tf.resource, name=None)\n",
      "  127604819513888: TensorSpec(shape=(), dtype=tf.resource, name=None)\n",
      "  127604819511248: TensorSpec(shape=(), dtype=tf.resource, name=None)\n",
      "  127604819509664: TensorSpec(shape=(), dtype=tf.resource, name=None)\n",
      "  127604819513184: TensorSpec(shape=(), dtype=tf.resource, name=None)\n",
      "  127604819521456: TensorSpec(shape=(), dtype=tf.resource, name=None)\n",
      "  127604819518288: TensorSpec(shape=(), dtype=tf.resource, name=None)\n"
     ]
    },
    {
     "name": "stderr",
     "output_type": "stream",
     "text": [
      "W0000 00:00:1744607845.439187  148060 tf_tfl_flatbuffer_helpers.cc:365] Ignored output_format.\n",
      "W0000 00:00:1744607845.439204  148060 tf_tfl_flatbuffer_helpers.cc:368] Ignored drop_control_dependency.\n",
      "2025-04-14 10:47:25.439361: I tensorflow/cc/saved_model/reader.cc:83] Reading SavedModel from: /tmp/tmpxp3vwqs6\n",
      "2025-04-14 10:47:25.461408: I tensorflow/cc/saved_model/reader.cc:52] Reading meta graph with tags { serve }\n",
      "2025-04-14 10:47:25.461422: I tensorflow/cc/saved_model/reader.cc:147] Reading SavedModel debug info (if present) from: /tmp/tmpxp3vwqs6\n",
      "2025-04-14 10:47:25.859116: I tensorflow/cc/saved_model/loader.cc:236] Restoring SavedModel bundle.\n",
      "2025-04-14 10:47:26.593339: I tensorflow/cc/saved_model/loader.cc:220] Running initialization op on SavedModel bundle at path: /tmp/tmpxp3vwqs6\n",
      "2025-04-14 10:47:27.243394: I tensorflow/cc/saved_model/loader.cc:471] SavedModel load for tags { serve }; Status: success: OK. Took 1804037 microseconds.\n"
     ]
    }
   ],
   "source": [
    "import tensorflow as tf\n",
    "\n",
    "converter = tf.lite.TFLiteConverter.from_keras_model(model_cpu)\n",
    "converter.optimizations = [tf.lite.Optimize.DEFAULT]\n",
    "converter.target_spec.supported_ops = [\n",
    "    tf.lite.OpsSet.TFLITE_BUILTINS\n",
    "]\n",
    "tflite_model = converter.convert()\n",
    "\n",
    "with open(f\"../models/{model_name}.tflite\", \"wb\") as f:\n",
    "    f.write(tflite_model)"
   ]
  }
 ],
 "metadata": {
  "kernelspec": {
   "display_name": "myenv",
   "language": "python",
   "name": "python3"
  },
  "language_info": {
   "codemirror_mode": {
    "name": "ipython",
    "version": 3
   },
   "file_extension": ".py",
   "mimetype": "text/x-python",
   "name": "python",
   "nbconvert_exporter": "python",
   "pygments_lexer": "ipython3",
   "version": "3.10.12"
  }
 },
 "nbformat": 4,
 "nbformat_minor": 5
}
